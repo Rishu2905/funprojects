{
 "cells": [
  {
   "cell_type": "code",
   "execution_count": 1,
   "id": "2bd92980",
   "metadata": {},
   "outputs": [
    {
     "name": "stdout",
     "output_type": "stream",
     "text": [
      "India\n"
     ]
    }
   ],
   "source": [
    "import phonenumbers\n",
    "from phonenumbers import geocoder\n",
    "from phonenumbers import timezone\n",
    "number1=phonenumbers.parse(\"+917303061824\")\n",
    "a=(geocoder.description_for_number(number1,'en'))\n",
    "print(a)"
   ]
  },
  {
   "cell_type": "code",
   "execution_count": 2,
   "id": "8a635607",
   "metadata": {},
   "outputs": [
    {
     "name": "stdout",
     "output_type": "stream",
     "text": [
      "Address: India\n",
      "Latitude: 22.3511148, Longitude: 78.6677428\n"
     ]
    }
   ],
   "source": [
    "from geopy.geocoders import Nominatim\n",
    "geolocator = Nominatim(user_agent=\"geoapiEx\")\n",
    "\n",
    "\n",
    "def get_coordinates_from_address(address):\n",
    "    try:\n",
    "        # Get location data (latitude, longitude) for the provided address\n",
    "        location = geolocator.geocode(address)\n",
    "        if location:\n",
    "            global x\n",
    "            global y\n",
    "            x=location.latitude\n",
    "            y=location.longitude\n",
    "            \n",
    "            print(f\"Address: {location.address}\")\n",
    "            print(f\"Latitude: {x}, Longitude: {y}\")\n",
    "        else:\n",
    "            print(\"Location not found for the given address.\")\n",
    "    except Exception as e:\n",
    "        print(f\"Error: {e}\")\n",
    "\n",
    "# Ask the user to enter their location\n",
    "user_address =a #input(\"Enter your location (e.g., city, address): \")\n",
    "\n",
    "# Get and display the coordinates for the user's entered location\n",
    "get_coordinates_from_address(user_address)"
   ]
  },
  {
   "cell_type": "code",
   "execution_count": 3,
   "id": "4e23979b",
   "metadata": {},
   "outputs": [],
   "source": [
    "import folium\n",
    "\n",
    "# Create a map\n",
    "my_map = folium.Map(location=[x, y], zoom_start=12)\n",
    "\n",
    "# Add a marker\n",
    "folium.Marker(location=[x, y], popup=\"test\").add_to(my_map)\n",
    "\n",
    "# Save the map as an HTML file\n",
    "my_map.save(\"map_with_marker.html\")"
   ]
  },
  {
   "cell_type": "code",
   "execution_count": null,
   "id": "fc39fb73",
   "metadata": {},
   "outputs": [],
   "source": []
  }
 ],
 "metadata": {
  "kernelspec": {
   "display_name": "Python 3 (ipykernel)",
   "language": "python",
   "name": "python3"
  },
  "language_info": {
   "codemirror_mode": {
    "name": "ipython",
    "version": 3
   },
   "file_extension": ".py",
   "mimetype": "text/x-python",
   "name": "python",
   "nbconvert_exporter": "python",
   "pygments_lexer": "ipython3",
   "version": "3.9.12"
  }
 },
 "nbformat": 4,
 "nbformat_minor": 5
}
